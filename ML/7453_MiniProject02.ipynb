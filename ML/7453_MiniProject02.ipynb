{
 "cells": [
  {
   "cell_type": "code",
   "execution_count": 1,
   "id": "a766a895",
   "metadata": {
    "execution": {
     "iopub.execute_input": "2022-11-10T15:12:16.659030Z",
     "iopub.status.busy": "2022-11-10T15:12:16.658484Z",
     "iopub.status.idle": "2022-11-10T15:12:18.195893Z",
     "shell.execute_reply": "2022-11-10T15:12:18.194760Z"
    },
    "papermill": {
     "duration": 1.548366,
     "end_time": "2022-11-10T15:12:18.198649",
     "exception": false,
     "start_time": "2022-11-10T15:12:16.650283",
     "status": "completed"
    },
    "tags": []
   },
   "outputs": [],
   "source": [
    "import numpy as np \n",
    "import pandas as pd\n",
    "import seaborn as sns\n",
    "sns.set(palette='colorblind')\n",
    "import matplotlib.pyplot as plt\n",
    "from sklearn.preprocessing import StandardScaler, OneHotEncoder, LabelEncoder\n",
    "from sklearn.decomposition import PCA\n",
    "from sklearn.pipeline import Pipeline \n",
    "from sklearn.impute import SimpleImputer\n",
    "from sklearn.ensemble import RandomForestClassifier, GradientBoostingClassifier\n",
    "from sklearn.linear_model import LogisticRegression\n",
    "import xgboost as xgb\n",
    "from sklearn.compose import ColumnTransformer\n",
    "from sklearn.metrics import accuracy_score, precision_score, recall_score, confusion_matrix\n",
    "from sklearn.model_selection import cross_val_predict, RandomizedSearchCV, GridSearchCV"
   ]
  },
  {
   "cell_type": "code",
   "execution_count": 2,
   "id": "07528864",
   "metadata": {
    "execution": {
     "iopub.execute_input": "2022-11-10T15:12:18.224909Z",
     "iopub.status.busy": "2022-11-10T15:12:18.224484Z",
     "iopub.status.idle": "2022-11-10T15:12:18.265287Z",
     "shell.execute_reply": "2022-11-10T15:12:18.264237Z"
    },
    "papermill": {
     "duration": 0.051575,
     "end_time": "2022-11-10T15:12:18.268590",
     "exception": false,
     "start_time": "2022-11-10T15:12:18.217015",
     "status": "completed"
    },
    "tags": []
   },
   "outputs": [
    {
     "data": {
      "text/html": [
       "<div>\n",
       "<style scoped>\n",
       "    .dataframe tbody tr th:only-of-type {\n",
       "        vertical-align: middle;\n",
       "    }\n",
       "\n",
       "    .dataframe tbody tr th {\n",
       "        vertical-align: top;\n",
       "    }\n",
       "\n",
       "    .dataframe thead th {\n",
       "        text-align: right;\n",
       "    }\n",
       "</style>\n",
       "<table border=\"1\" class=\"dataframe\">\n",
       "  <thead>\n",
       "    <tr style=\"text-align: right;\">\n",
       "      <th></th>\n",
       "      <th>PassengerId</th>\n",
       "      <th>Survived</th>\n",
       "      <th>Pclass</th>\n",
       "      <th>Name</th>\n",
       "      <th>Sex</th>\n",
       "      <th>Age</th>\n",
       "      <th>SibSp</th>\n",
       "      <th>Parch</th>\n",
       "      <th>Ticket</th>\n",
       "      <th>Fare</th>\n",
       "      <th>Cabin</th>\n",
       "      <th>Embarked</th>\n",
       "    </tr>\n",
       "  </thead>\n",
       "  <tbody>\n",
       "    <tr>\n",
       "      <th>0</th>\n",
       "      <td>1</td>\n",
       "      <td>0</td>\n",
       "      <td>3</td>\n",
       "      <td>Braund, Mr. Owen Harris</td>\n",
       "      <td>male</td>\n",
       "      <td>22.0</td>\n",
       "      <td>1</td>\n",
       "      <td>0</td>\n",
       "      <td>A/5 21171</td>\n",
       "      <td>7.2500</td>\n",
       "      <td>NaN</td>\n",
       "      <td>S</td>\n",
       "    </tr>\n",
       "    <tr>\n",
       "      <th>1</th>\n",
       "      <td>2</td>\n",
       "      <td>1</td>\n",
       "      <td>1</td>\n",
       "      <td>Cumings, Mrs. John Bradley (Florence Briggs Th...</td>\n",
       "      <td>female</td>\n",
       "      <td>38.0</td>\n",
       "      <td>1</td>\n",
       "      <td>0</td>\n",
       "      <td>PC 17599</td>\n",
       "      <td>71.2833</td>\n",
       "      <td>C85</td>\n",
       "      <td>C</td>\n",
       "    </tr>\n",
       "    <tr>\n",
       "      <th>2</th>\n",
       "      <td>3</td>\n",
       "      <td>1</td>\n",
       "      <td>3</td>\n",
       "      <td>Heikkinen, Miss. Laina</td>\n",
       "      <td>female</td>\n",
       "      <td>26.0</td>\n",
       "      <td>0</td>\n",
       "      <td>0</td>\n",
       "      <td>STON/O2. 3101282</td>\n",
       "      <td>7.9250</td>\n",
       "      <td>NaN</td>\n",
       "      <td>S</td>\n",
       "    </tr>\n",
       "    <tr>\n",
       "      <th>3</th>\n",
       "      <td>4</td>\n",
       "      <td>1</td>\n",
       "      <td>1</td>\n",
       "      <td>Futrelle, Mrs. Jacques Heath (Lily May Peel)</td>\n",
       "      <td>female</td>\n",
       "      <td>35.0</td>\n",
       "      <td>1</td>\n",
       "      <td>0</td>\n",
       "      <td>113803</td>\n",
       "      <td>53.1000</td>\n",
       "      <td>C123</td>\n",
       "      <td>S</td>\n",
       "    </tr>\n",
       "    <tr>\n",
       "      <th>4</th>\n",
       "      <td>5</td>\n",
       "      <td>0</td>\n",
       "      <td>3</td>\n",
       "      <td>Allen, Mr. William Henry</td>\n",
       "      <td>male</td>\n",
       "      <td>35.0</td>\n",
       "      <td>0</td>\n",
       "      <td>0</td>\n",
       "      <td>373450</td>\n",
       "      <td>8.0500</td>\n",
       "      <td>NaN</td>\n",
       "      <td>S</td>\n",
       "    </tr>\n",
       "  </tbody>\n",
       "</table>\n",
       "</div>"
      ],
      "text/plain": [
       "   PassengerId  Survived  Pclass  \\\n",
       "0            1         0       3   \n",
       "1            2         1       1   \n",
       "2            3         1       3   \n",
       "3            4         1       1   \n",
       "4            5         0       3   \n",
       "\n",
       "                                                Name     Sex   Age  SibSp  \\\n",
       "0                            Braund, Mr. Owen Harris    male  22.0      1   \n",
       "1  Cumings, Mrs. John Bradley (Florence Briggs Th...  female  38.0      1   \n",
       "2                             Heikkinen, Miss. Laina  female  26.0      0   \n",
       "3       Futrelle, Mrs. Jacques Heath (Lily May Peel)  female  35.0      1   \n",
       "4                           Allen, Mr. William Henry    male  35.0      0   \n",
       "\n",
       "   Parch            Ticket     Fare Cabin Embarked  \n",
       "0      0         A/5 21171   7.2500   NaN        S  \n",
       "1      0          PC 17599  71.2833   C85        C  \n",
       "2      0  STON/O2. 3101282   7.9250   NaN        S  \n",
       "3      0            113803  53.1000  C123        S  \n",
       "4      0            373450   8.0500   NaN        S  "
      ]
     },
     "execution_count": 2,
     "metadata": {},
     "output_type": "execute_result"
    }
   ],
   "source": [
    "raw_data = pd.read_csv('titanic.csv')\n",
    "raw_data.head()"
   ]
  },
  {
   "cell_type": "code",
   "execution_count": 3,
   "id": "50c71c56",
   "metadata": {
    "execution": {
     "iopub.execute_input": "2022-11-10T15:12:18.283507Z",
     "iopub.status.busy": "2022-11-10T15:12:18.283120Z",
     "iopub.status.idle": "2022-11-10T15:12:18.313686Z",
     "shell.execute_reply": "2022-11-10T15:12:18.311453Z"
    },
    "papermill": {
     "duration": 0.04107,
     "end_time": "2022-11-10T15:12:18.316257",
     "exception": false,
     "start_time": "2022-11-10T15:12:18.275187",
     "status": "completed"
    },
    "tags": []
   },
   "outputs": [
    {
     "name": "stdout",
     "output_type": "stream",
     "text": [
      "<class 'pandas.core.frame.DataFrame'>\n",
      "RangeIndex: 891 entries, 0 to 890\n",
      "Data columns (total 12 columns):\n",
      " #   Column       Non-Null Count  Dtype  \n",
      "---  ------       --------------  -----  \n",
      " 0   PassengerId  891 non-null    int64  \n",
      " 1   Survived     891 non-null    int64  \n",
      " 2   Pclass       891 non-null    int64  \n",
      " 3   Name         891 non-null    object \n",
      " 4   Sex          891 non-null    object \n",
      " 5   Age          714 non-null    float64\n",
      " 6   SibSp        891 non-null    int64  \n",
      " 7   Parch        891 non-null    int64  \n",
      " 8   Ticket       891 non-null    object \n",
      " 9   Fare         891 non-null    float64\n",
      " 10  Cabin        204 non-null    object \n",
      " 11  Embarked     889 non-null    object \n",
      "dtypes: float64(2), int64(5), object(5)\n",
      "memory usage: 83.7+ KB\n"
     ]
    }
   ],
   "source": [
    "raw_data.info()"
   ]
  },
  {
   "cell_type": "code",
   "execution_count": 4,
   "id": "fb847a32",
   "metadata": {
    "execution": {
     "iopub.execute_input": "2022-11-10T15:12:18.360653Z",
     "iopub.status.busy": "2022-11-10T15:12:18.360292Z",
     "iopub.status.idle": "2022-11-10T15:12:18.387976Z",
     "shell.execute_reply": "2022-11-10T15:12:18.386792Z"
    },
    "papermill": {
     "duration": 0.038261,
     "end_time": "2022-11-10T15:12:18.390359",
     "exception": false,
     "start_time": "2022-11-10T15:12:18.352098",
     "status": "completed"
    },
    "tags": []
   },
   "outputs": [
    {
     "data": {
      "text/html": [
       "<div>\n",
       "<style scoped>\n",
       "    .dataframe tbody tr th:only-of-type {\n",
       "        vertical-align: middle;\n",
       "    }\n",
       "\n",
       "    .dataframe tbody tr th {\n",
       "        vertical-align: top;\n",
       "    }\n",
       "\n",
       "    .dataframe thead th {\n",
       "        text-align: right;\n",
       "    }\n",
       "</style>\n",
       "<table border=\"1\" class=\"dataframe\">\n",
       "  <thead>\n",
       "    <tr style=\"text-align: right;\">\n",
       "      <th></th>\n",
       "      <th>Survived</th>\n",
       "      <th>Pclass</th>\n",
       "      <th>Sex</th>\n",
       "      <th>Age</th>\n",
       "      <th>SibSp</th>\n",
       "      <th>Parch</th>\n",
       "      <th>Ticket</th>\n",
       "      <th>Fare</th>\n",
       "      <th>Embarked</th>\n",
       "    </tr>\n",
       "    <tr>\n",
       "      <th>PassengerId</th>\n",
       "      <th></th>\n",
       "      <th></th>\n",
       "      <th></th>\n",
       "      <th></th>\n",
       "      <th></th>\n",
       "      <th></th>\n",
       "      <th></th>\n",
       "      <th></th>\n",
       "      <th></th>\n",
       "    </tr>\n",
       "  </thead>\n",
       "  <tbody>\n",
       "    <tr>\n",
       "      <th>1</th>\n",
       "      <td>0</td>\n",
       "      <td>3</td>\n",
       "      <td>male</td>\n",
       "      <td>22.0</td>\n",
       "      <td>1</td>\n",
       "      <td>0</td>\n",
       "      <td>523</td>\n",
       "      <td>7.2500</td>\n",
       "      <td>S</td>\n",
       "    </tr>\n",
       "    <tr>\n",
       "      <th>2</th>\n",
       "      <td>1</td>\n",
       "      <td>1</td>\n",
       "      <td>female</td>\n",
       "      <td>38.0</td>\n",
       "      <td>1</td>\n",
       "      <td>0</td>\n",
       "      <td>596</td>\n",
       "      <td>71.2833</td>\n",
       "      <td>C</td>\n",
       "    </tr>\n",
       "    <tr>\n",
       "      <th>3</th>\n",
       "      <td>1</td>\n",
       "      <td>3</td>\n",
       "      <td>female</td>\n",
       "      <td>26.0</td>\n",
       "      <td>0</td>\n",
       "      <td>0</td>\n",
       "      <td>669</td>\n",
       "      <td>7.9250</td>\n",
       "      <td>S</td>\n",
       "    </tr>\n",
       "    <tr>\n",
       "      <th>4</th>\n",
       "      <td>1</td>\n",
       "      <td>1</td>\n",
       "      <td>female</td>\n",
       "      <td>35.0</td>\n",
       "      <td>1</td>\n",
       "      <td>0</td>\n",
       "      <td>49</td>\n",
       "      <td>53.1000</td>\n",
       "      <td>S</td>\n",
       "    </tr>\n",
       "    <tr>\n",
       "      <th>5</th>\n",
       "      <td>0</td>\n",
       "      <td>3</td>\n",
       "      <td>male</td>\n",
       "      <td>35.0</td>\n",
       "      <td>0</td>\n",
       "      <td>0</td>\n",
       "      <td>472</td>\n",
       "      <td>8.0500</td>\n",
       "      <td>S</td>\n",
       "    </tr>\n",
       "  </tbody>\n",
       "</table>\n",
       "</div>"
      ],
      "text/plain": [
       "             Survived Pclass     Sex   Age SibSp Parch  Ticket     Fare  \\\n",
       "PassengerId                                                               \n",
       "1                   0      3    male  22.0     1     0     523   7.2500   \n",
       "2                   1      1  female  38.0     1     0     596  71.2833   \n",
       "3                   1      3  female  26.0     0     0     669   7.9250   \n",
       "4                   1      1  female  35.0     1     0      49  53.1000   \n",
       "5                   0      3    male  35.0     0     0     472   8.0500   \n",
       "\n",
       "            Embarked  \n",
       "PassengerId           \n",
       "1                  S  \n",
       "2                  C  \n",
       "3                  S  \n",
       "4                  S  \n",
       "5                  S  "
      ]
     },
     "execution_count": 4,
     "metadata": {},
     "output_type": "execute_result"
    }
   ],
   "source": [
    "# Checkpoint\n",
    "data = raw_data.copy()\n",
    "# Dropping Name and Cabin\n",
    "data.drop(['Name', 'Cabin'], axis=1, inplace=True)\n",
    "# Column to change list\n",
    "column_to_change = ['Pclass', 'SibSp', 'Parch']\n",
    "data[column_to_change] = data[column_to_change].apply(lambda x: x.astype('category'))\n",
    "# Instantiate LabelEncoder\n",
    "lb_encode = LabelEncoder()\n",
    "data['Ticket'] = lb_encode.fit_transform(data['Ticket'])\n",
    "# Set Passenger_id as index\n",
    "data = data.set_index('PassengerId')\n",
    "data.head()"
   ]
  },
  {
   "cell_type": "code",
   "execution_count": 5,
   "id": "f3a95eeb",
   "metadata": {
    "execution": {
     "iopub.execute_input": "2022-11-10T15:12:18.420297Z",
     "iopub.status.busy": "2022-11-10T15:12:18.419935Z",
     "iopub.status.idle": "2022-11-10T15:12:18.426780Z",
     "shell.execute_reply": "2022-11-10T15:12:18.425605Z"
    },
    "papermill": {
     "duration": 0.017683,
     "end_time": "2022-11-10T15:12:18.428998",
     "exception": false,
     "start_time": "2022-11-10T15:12:18.411315",
     "status": "completed"
    },
    "tags": []
   },
   "outputs": [],
   "source": [
    "def validation_fun(df):\n",
    "    df.drop(['Name', 'Cabin'], axis=1, inplace=True)\n",
    "    # Column to change list\n",
    "    column_to_change = ['Pclass', 'SibSp', 'Parch']\n",
    "    df[column_to_change] = df[column_to_change].apply(lambda x: x.astype('category'))\n",
    "    # Instantiate LabelEncoder\n",
    "    lb_encode = LabelEncoder()\n",
    "    df['Ticket'] = lb_encode.fit_transform(df['Ticket'])\n",
    "    # Set Passenger_id as index\n",
    "    df = df.set_index('PassengerId')\n",
    "    return df"
   ]
  },
  {
   "cell_type": "code",
   "execution_count": 6,
   "id": "3c40afde",
   "metadata": {
    "execution": {
     "iopub.execute_input": "2022-11-10T15:12:18.458383Z",
     "iopub.status.busy": "2022-11-10T15:12:18.458003Z",
     "iopub.status.idle": "2022-11-10T15:12:18.465819Z",
     "shell.execute_reply": "2022-11-10T15:12:18.464544Z"
    },
    "papermill": {
     "duration": 0.017935,
     "end_time": "2022-11-10T15:12:18.467833",
     "exception": false,
     "start_time": "2022-11-10T15:12:18.449898",
     "status": "completed"
    },
    "tags": []
   },
   "outputs": [],
   "source": [
    "# Split data into inputs and targets\n",
    "targets = data['Survived']\n",
    "inputs = data.drop('Survived', axis=1)"
   ]
  },
  {
   "cell_type": "code",
   "execution_count": 7,
   "id": "7d3a6e13",
   "metadata": {
    "execution": {
     "iopub.execute_input": "2022-11-10T15:12:18.497954Z",
     "iopub.status.busy": "2022-11-10T15:12:18.497551Z",
     "iopub.status.idle": "2022-11-10T15:12:18.528858Z",
     "shell.execute_reply": "2022-11-10T15:12:18.527489Z"
    },
    "papermill": {
     "duration": 0.042665,
     "end_time": "2022-11-10T15:12:18.531567",
     "exception": false,
     "start_time": "2022-11-10T15:12:18.488902",
     "status": "completed"
    },
    "tags": []
   },
   "outputs": [],
   "source": [
    "cat_names = inputs.select_dtypes(exclude='number').columns\n",
    "num_names = inputs.select_dtypes(include='number').columns\n",
    "\n",
    "cat_pipeline = Pipeline(\n",
    "                        [\n",
    "                            ('cat_imputer', SimpleImputer(strategy='most_frequent')),\n",
    "                            ('encoder', OneHotEncoder())\n",
    "                        ]\n",
    ")\n",
    "num_pipeline = Pipeline(\n",
    "                        [\n",
    "                            ('num_imputer', SimpleImputer(strategy='median')),\n",
    "                            ('scaler', StandardScaler())\n",
    "                        ]\n",
    ")\n",
    "full_pipeline = ColumnTransformer(\n",
    "                                  [\n",
    "                                      ('cat_pipeline', cat_pipeline, cat_names),\n",
    "                                      ('num_pipeline', num_pipeline, num_names)\n",
    "                                  ]\n",
    ")\n",
    "pca = PCA()\n",
    "inputs_scaled = full_pipeline.fit_transform(inputs)"
   ]
  },
  {
   "cell_type": "code",
   "execution_count": 8,
   "id": "091d28cc",
   "metadata": {
    "execution": {
     "iopub.execute_input": "2022-11-10T15:12:18.561042Z",
     "iopub.status.busy": "2022-11-10T15:12:18.560633Z",
     "iopub.status.idle": "2022-11-10T15:12:18.596182Z",
     "shell.execute_reply": "2022-11-10T15:12:18.595153Z"
    },
    "papermill": {
     "duration": 0.046478,
     "end_time": "2022-11-10T15:12:18.598903",
     "exception": false,
     "start_time": "2022-11-10T15:12:18.552425",
     "status": "completed"
    },
    "tags": []
   },
   "outputs": [
    {
     "name": "stdout",
     "output_type": "stream",
     "text": [
      "The baseline accuracy is 82.0%\n",
      "The baseline precision is 79.0%\n",
      "The baseline recall is 72.0%\n"
     ]
    }
   ],
   "source": [
    "# Instantiate LogisticRegression\n",
    "lg_reg = LogisticRegression()\n",
    "lg_reg.fit(inputs_scaled, targets)\n",
    "baseline_pred = lg_reg.predict(inputs_scaled)\n",
    "baseline_accuracy = accuracy_score(targets, baseline_pred)\n",
    "baseline_precision = precision_score(targets, baseline_pred)\n",
    "baseline_recall = recall_score(targets, baseline_pred)\n",
    "print(f'The baseline accuracy is {round(baseline_accuracy, 2)*100}%')\n",
    "print(f'The baseline precision is {round(baseline_precision, 2)*100}%')\n",
    "print(f'The baseline recall is {round(baseline_recall, 2)*100}%')"
   ]
  },
  {
   "cell_type": "code",
   "execution_count": 9,
   "id": "83919817",
   "metadata": {
    "execution": {
     "iopub.execute_input": "2022-11-10T15:12:18.637030Z",
     "iopub.status.busy": "2022-11-10T15:12:18.635835Z",
     "iopub.status.idle": "2022-11-10T15:12:18.906173Z",
     "shell.execute_reply": "2022-11-10T15:12:18.905020Z"
    },
    "papermill": {
     "duration": 0.283344,
     "end_time": "2022-11-10T15:12:18.908819",
     "exception": false,
     "start_time": "2022-11-10T15:12:18.625475",
     "status": "completed"
    },
    "tags": []
   },
   "outputs": [
    {
     "name": "stdout",
     "output_type": "stream",
     "text": [
      "The XGBClassifier accuracy is 97.0%\n",
      "The XGBClassifier precision is 98.0%\n",
      "The XGBClassifier recall is 94.0%\n"
     ]
    }
   ],
   "source": [
    "# Instantiate XGBClassifier\n",
    "xgb_class = xgb.XGBClassifier(n_estimators=50, seed=42, objective='reg:logistic')\n",
    "xgb_class.fit(inputs_scaled, targets)\n",
    "xgb_pred = xgb_class.predict(inputs_scaled)\n",
    "xgb_accuracy = accuracy_score(targets, xgb_pred)\n",
    "xgb_precision = precision_score(targets, xgb_pred)\n",
    "xgb_recall = recall_score(targets, xgb_pred)\n",
    "print(f'The XGBClassifier accuracy is {round(xgb_accuracy, 2)*100}%')\n",
    "print(f'The XGBClassifier precision is {round(xgb_precision, 2)*100}%')\n",
    "print(f'The XGBClassifier recall is {round(xgb_recall, 2)*100}%')"
   ]
  },
  {
   "cell_type": "code",
   "execution_count": 10,
   "id": "1bedb562",
   "metadata": {
    "execution": {
     "iopub.execute_input": "2022-11-10T15:12:18.933530Z",
     "iopub.status.busy": "2022-11-10T15:12:18.932889Z",
     "iopub.status.idle": "2022-11-10T15:12:19.341576Z",
     "shell.execute_reply": "2022-11-10T15:12:19.339528Z"
    },
    "papermill": {
     "duration": 0.426273,
     "end_time": "2022-11-10T15:12:19.344782",
     "exception": false,
     "start_time": "2022-11-10T15:12:18.918509",
     "status": "completed"
    },
    "tags": []
   },
   "outputs": [
    {
     "name": "stdout",
     "output_type": "stream",
     "text": [
      "The RandomForestClassifier accuracy is 100.0%\n",
      "The RandomForestClassifier precision is 100.0%\n",
      "The RandomForestClassifier recall is 99.0%\n"
     ]
    }
   ],
   "source": [
    "# Instantiate RandomForestClassifier\n",
    "rf_class = RandomForestClassifier(n_estimators=200, random_state=42)\n",
    "rf_class.fit(inputs_scaled, targets)\n",
    "rf_pred = rf_class.predict(inputs_scaled)\n",
    "rf_accuracy = accuracy_score(targets, rf_pred)\n",
    "rf_precision = precision_score(targets, rf_pred)\n",
    "rf_recall = recall_score(targets, rf_pred)\n",
    "print(f'The RandomForestClassifier accuracy is {round(rf_accuracy, 2)*100}%')\n",
    "print(f'The RandomForestClassifier precision is {round(rf_precision, 2)*100}%')\n",
    "print(f'The RandomForestClassifier recall is {round(rf_recall, 2)*100}%')"
   ]
  },
  {
   "cell_type": "code",
   "execution_count": 11,
   "id": "1c2a2b86",
   "metadata": {
    "execution": {
     "iopub.execute_input": "2022-11-10T15:12:19.361438Z",
     "iopub.status.busy": "2022-11-10T15:12:19.360888Z",
     "iopub.status.idle": "2022-11-10T15:12:19.645162Z",
     "shell.execute_reply": "2022-11-10T15:12:19.643451Z"
    },
    "papermill": {
     "duration": 0.295961,
     "end_time": "2022-11-10T15:12:19.648231",
     "exception": false,
     "start_time": "2022-11-10T15:12:19.352270",
     "status": "completed"
    },
    "tags": []
   },
   "outputs": [
    {
     "name": "stdout",
     "output_type": "stream",
     "text": [
      "The GradientBoostingClassifier accuracy is 93.0%\n",
      "The GradientBoostingClassifier precision is 94.0%\n",
      "The GradientBoostingClassifier recall is 88.0%\n"
     ]
    }
   ],
   "source": [
    "# Instantiate GradientBoostingClassifier\n",
    "gb_class = GradientBoostingClassifier(n_estimators=200, random_state=42)\n",
    "gb_class.fit(inputs_scaled, targets)\n",
    "gb_pred = gb_class.predict(inputs_scaled)\n",
    "gb_accuracy = accuracy_score(targets, gb_pred)\n",
    "gb_precision = precision_score(targets, gb_pred)\n",
    "gb_recall = recall_score(targets, gb_pred)\n",
    "print(f'The GradientBoostingClassifier accuracy is {round(gb_accuracy, 2)*100}%')\n",
    "print(f'The GradientBoostingClassifier precision is {round(gb_precision, 2)*100}%')\n",
    "print(f'The GradientBoostingClassifier recall is {round(gb_recall, 2)*100}%')"
   ]
  },
  {
   "cell_type": "code",
   "execution_count": 12,
   "id": "85e9cfdb",
   "metadata": {
    "execution": {
     "iopub.execute_input": "2022-11-10T15:12:19.692070Z",
     "iopub.status.busy": "2022-11-10T15:12:19.691695Z",
     "iopub.status.idle": "2022-11-10T15:12:52.607611Z",
     "shell.execute_reply": "2022-11-10T15:12:52.605918Z"
    },
    "papermill": {
     "duration": 32.933061,
     "end_time": "2022-11-10T15:12:52.616499",
     "exception": false,
     "start_time": "2022-11-10T15:12:19.683438",
     "status": "completed"
    },
    "tags": []
   },
   "outputs": [
    {
     "name": "stdout",
     "output_type": "stream",
     "text": [
      "The best accuracy of GradientBoostingClassifier is 0.8170861841692298\n"
     ]
    }
   ],
   "source": [
    "# Hyper parameter tunning of GradientBoostingClassifier\n",
    "params = {\n",
    "    \"n_estimators\":[5,50,250,500],\n",
    "    \"max_depth\":[1,3,5,7,9],\n",
    "    \"learning_rate\":[0.01,0.1,1,10,100]\n",
    "}\n",
    "gb_cv = RandomizedSearchCV(estimator=gb_class, param_distributions=params,\n",
    "                               scoring='accuracy', cv=5)\n",
    "gb_cv.fit(inputs_scaled, targets)\n",
    "print(f'The best accuracy of GradientBoostingClassifier is {gb_cv.best_score_}')"
   ]
  },
  {
   "cell_type": "code",
   "execution_count": 13,
   "id": "d97d353b",
   "metadata": {
    "execution": {
     "iopub.execute_input": "2022-11-10T15:12:52.633677Z",
     "iopub.status.busy": "2022-11-10T15:12:52.633300Z",
     "iopub.status.idle": "2022-11-10T15:13:02.845972Z",
     "shell.execute_reply": "2022-11-10T15:13:02.845042Z"
    },
    "papermill": {
     "duration": 10.223854,
     "end_time": "2022-11-10T15:13:02.848404",
     "exception": false,
     "start_time": "2022-11-10T15:12:52.624550",
     "status": "completed"
    },
    "tags": []
   },
   "outputs": [
    {
     "name": "stdout",
     "output_type": "stream",
     "text": [
      "The best accuracy of RandomForestClassifier is 0.8316740945326722\n"
     ]
    }
   ],
   "source": [
    "params = {\n",
    "    \"n_estimators\":[64, 128, 256],\n",
    "    \"max_depth\":[2, 8, 16]\n",
    "}\n",
    "rf_cv = GridSearchCV(estimator=rf_class, param_grid=params,\n",
    "                               scoring='accuracy', cv=5)\n",
    "rf_cv.fit(inputs_scaled, targets)\n",
    "print(f'The best accuracy of RandomForestClassifier is {rf_cv.best_score_}')"
   ]
  },
  {
   "cell_type": "code",
   "execution_count": 14,
   "id": "23757612",
   "metadata": {
    "execution": {
     "iopub.execute_input": "2022-11-10T15:13:02.868311Z",
     "iopub.status.busy": "2022-11-10T15:13:02.867226Z",
     "iopub.status.idle": "2022-11-10T15:15:00.918893Z",
     "shell.execute_reply": "2022-11-10T15:15:00.917873Z"
    },
    "papermill": {
     "duration": 118.06646,
     "end_time": "2022-11-10T15:15:00.924513",
     "exception": false,
     "start_time": "2022-11-10T15:13:02.858053",
     "status": "completed"
    },
    "tags": []
   },
   "outputs": [
    {
     "name": "stdout",
     "output_type": "stream",
     "text": [
      "Fitting 5 folds for each of 25 candidates, totalling 125 fits\n",
      "The best accuracy of XGBClassifier is 0.829458288870755\n"
     ]
    }
   ],
   "source": [
    "# Hyper-parameter tunning of XGBClassifier\n",
    "params = {\n",
    "    \"learning_rate\": np.arange(0.05, 1.05, 0.05),\n",
    "    \"subsample\": np.arange(0.05, 1.05, 0.05),\n",
    "    \"n_estimators\": [100,200,300,400,500]\n",
    "}\n",
    "xgb_cv = RandomizedSearchCV(estimator=xgb_class, param_distributions=params, n_iter=25,\n",
    "                               scoring='accuracy', cv=5, verbose=1)\n",
    "xgb_cv.fit(inputs_scaled, targets)\n",
    "print(f'The best accuracy of XGBClassifier is {xgb_cv.best_score_}')"
   ]
  },
  {
   "cell_type": "code",
   "execution_count": 15,
   "id": "18145976",
   "metadata": {
    "execution": {
     "iopub.execute_input": "2022-11-10T15:15:00.940415Z",
     "iopub.status.busy": "2022-11-10T15:15:00.939864Z",
     "iopub.status.idle": "2022-11-10T15:15:09.472536Z",
     "shell.execute_reply": "2022-11-10T15:15:09.471461Z"
    },
    "papermill": {
     "duration": 8.543535,
     "end_time": "2022-11-10T15:15:09.475030",
     "exception": false,
     "start_time": "2022-11-10T15:15:00.931495",
     "status": "completed"
    },
    "tags": []
   },
   "outputs": [
    {
     "name": "stdout",
     "output_type": "stream",
     "text": [
      "The Evaluation accuracy is 83.0%\n",
      "The Evaluation precision is 80.0%\n",
      "The Evaluation recall is 74.0%\n"
     ]
    }
   ],
   "source": [
    "cv_pred = cross_val_predict(xgb_cv.best_estimator_, inputs_scaled, targets)\n",
    "cv_accuracy = accuracy_score(targets, cv_pred)\n",
    "cv_precision = precision_score(targets, cv_pred)\n",
    "cv_recall = recall_score(targets, cv_pred)\n",
    "print(f'The Evaluation accuracy is {round(cv_accuracy, 2)*100}%')\n",
    "print(f'The Evaluation precision is {round(cv_precision, 2)*100}%')\n",
    "print(f'The Evaluation recall is {round(cv_recall, 2)*100}%')"
   ]
  },
  {
   "cell_type": "code",
   "execution_count": 16,
   "id": "71ea7179",
   "metadata": {
    "execution": {
     "iopub.execute_input": "2022-11-10T15:15:09.491641Z",
     "iopub.status.busy": "2022-11-10T15:15:09.491252Z",
     "iopub.status.idle": "2022-11-10T15:15:09.522747Z",
     "shell.execute_reply": "2022-11-10T15:15:09.521905Z"
    },
    "papermill": {
     "duration": 0.042579,
     "end_time": "2022-11-10T15:15:09.525081",
     "exception": false,
     "start_time": "2022-11-10T15:15:09.482502",
     "status": "completed"
    },
    "tags": []
   },
   "outputs": [],
   "source": [
    "# Load the test Data \n",
    "test_set = pd.read_csv('titanic.csv')\n",
    "test_set['Parch'] = np.where(test_set['Parch']==9, np.nan, test_set['Parch'])\n",
    "test_set_data = validation_fun(test_set)\n",
    "test_scaled = full_pipeline.transform(test_set_data)"
   ]
  },
  {
   "cell_type": "code",
   "execution_count": 17,
   "id": "1c765d9a",
   "metadata": {
    "execution": {
     "iopub.execute_input": "2022-11-10T15:15:09.541588Z",
     "iopub.status.busy": "2022-11-10T15:15:09.541091Z",
     "iopub.status.idle": "2022-11-10T15:15:09.544815Z",
     "shell.execute_reply": "2022-11-10T15:15:09.543824Z"
    },
    "papermill": {
     "duration": 0.01446,
     "end_time": "2022-11-10T15:15:09.547057",
     "exception": false,
     "start_time": "2022-11-10T15:15:09.532597",
     "status": "completed"
    },
    "tags": []
   },
   "outputs": [],
   "source": [
    "best_model = xgb_cv.best_estimator_"
   ]
  },
  {
   "cell_type": "code",
   "execution_count": 18,
   "id": "a8b8106c",
   "metadata": {
    "execution": {
     "iopub.execute_input": "2022-11-10T15:15:09.563579Z",
     "iopub.status.busy": "2022-11-10T15:15:09.563093Z",
     "iopub.status.idle": "2022-11-10T15:15:09.587455Z",
     "shell.execute_reply": "2022-11-10T15:15:09.585999Z"
    },
    "papermill": {
     "duration": 0.035834,
     "end_time": "2022-11-10T15:15:09.590310",
     "exception": false,
     "start_time": "2022-11-10T15:15:09.554476",
     "status": "completed"
    },
    "tags": []
   },
   "outputs": [
    {
     "data": {
      "text/html": [
       "<div>\n",
       "<style scoped>\n",
       "    .dataframe tbody tr th:only-of-type {\n",
       "        vertical-align: middle;\n",
       "    }\n",
       "\n",
       "    .dataframe tbody tr th {\n",
       "        vertical-align: top;\n",
       "    }\n",
       "\n",
       "    .dataframe thead th {\n",
       "        text-align: right;\n",
       "    }\n",
       "</style>\n",
       "<table border=\"1\" class=\"dataframe\">\n",
       "  <thead>\n",
       "    <tr style=\"text-align: right;\">\n",
       "      <th></th>\n",
       "      <th>Survived</th>\n",
       "    </tr>\n",
       "    <tr>\n",
       "      <th>PassengerId</th>\n",
       "      <th></th>\n",
       "    </tr>\n",
       "  </thead>\n",
       "  <tbody>\n",
       "    <tr>\n",
       "      <th>1</th>\n",
       "      <td>0</td>\n",
       "    </tr>\n",
       "    <tr>\n",
       "      <th>2</th>\n",
       "      <td>1</td>\n",
       "    </tr>\n",
       "    <tr>\n",
       "      <th>3</th>\n",
       "      <td>1</td>\n",
       "    </tr>\n",
       "    <tr>\n",
       "      <th>4</th>\n",
       "      <td>1</td>\n",
       "    </tr>\n",
       "    <tr>\n",
       "      <th>5</th>\n",
       "      <td>0</td>\n",
       "    </tr>\n",
       "  </tbody>\n",
       "</table>\n",
       "</div>"
      ],
      "text/plain": [
       "             Survived\n",
       "PassengerId          \n",
       "1                   0\n",
       "2                   1\n",
       "3                   1\n",
       "4                   1\n",
       "5                   0"
      ]
     },
     "execution_count": 18,
     "metadata": {},
     "output_type": "execute_result"
    }
   ],
   "source": [
    "test_pred = xgb_class.predict(test_scaled)\n",
    "submission_df = pd.DataFrame()\n",
    "submission_df['PassengerId'] = test_set_data.index\n",
    "submission_df['Survived'] = test_pred\n",
    "submission_df.set_index('PassengerId', inplace=True)\n",
    "submission_df.head()"
   ]
  },
  {
   "cell_type": "code",
   "execution_count": 19,
   "id": "e2eab864",
   "metadata": {
    "execution": {
     "iopub.execute_input": "2022-11-10T15:15:09.607205Z",
     "iopub.status.busy": "2022-11-10T15:15:09.606836Z",
     "iopub.status.idle": "2022-11-10T15:15:09.615406Z",
     "shell.execute_reply": "2022-11-10T15:15:09.614157Z"
    },
    "papermill": {
     "duration": 0.019574,
     "end_time": "2022-11-10T15:15:09.617572",
     "exception": false,
     "start_time": "2022-11-10T15:15:09.597998",
     "status": "completed"
    },
    "tags": []
   },
   "outputs": [],
   "source": [
    "submission_df.to_csv('submission.csv')"
   ]
  },
  {
   "cell_type": "code",
   "execution_count": null,
   "id": "c887c6d0",
   "metadata": {
    "papermill": {
     "duration": 0.007187,
     "end_time": "2022-11-10T15:15:09.632197",
     "exception": false,
     "start_time": "2022-11-10T15:15:09.625010",
     "status": "completed"
    },
    "tags": []
   },
   "outputs": [],
   "source": []
  }
 ],
 "metadata": {
  "kernelspec": {
   "display_name": "Python 3 (ipykernel)",
   "language": "python",
   "name": "python3"
  },
  "language_info": {
   "codemirror_mode": {
    "name": "ipython",
    "version": 3
   },
   "file_extension": ".py",
   "mimetype": "text/x-python",
   "name": "python",
   "nbconvert_exporter": "python",
   "pygments_lexer": "ipython3",
   "version": "3.10.7"
  },
  "papermill": {
   "default_parameters": {},
   "duration": 181.697464,
   "end_time": "2022-11-10T15:15:10.462109",
   "environment_variables": {},
   "exception": null,
   "input_path": "__notebook__.ipynb",
   "output_path": "__notebook__.ipynb",
   "parameters": {},
   "start_time": "2022-11-10T15:12:08.764645",
   "version": "2.3.4"
  }
 },
 "nbformat": 4,
 "nbformat_minor": 5
}
